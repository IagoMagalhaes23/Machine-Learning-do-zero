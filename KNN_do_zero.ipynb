{
  "nbformat": 4,
  "nbformat_minor": 0,
  "metadata": {
    "colab": {
      "name": "KNN_do_zero.ipynb",
      "provenance": [],
      "collapsed_sections": [],
      "authorship_tag": "ABX9TyN4lY/KeW6N5ARDzoCozuDW",
      "include_colab_link": true
    },
    "kernelspec": {
      "name": "python3",
      "display_name": "Python 3"
    },
    "language_info": {
      "name": "python"
    }
  },
  "cells": [
    {
      "cell_type": "markdown",
      "metadata": {
        "id": "view-in-github",
        "colab_type": "text"
      },
      "source": [
        "<a href=\"https://colab.research.google.com/github/IagoMagalhaes23/Machine-Learning-do-zero/blob/main/KNN_do_zero.ipynb\" target=\"_parent\"><img src=\"https://colab.research.google.com/assets/colab-badge.svg\" alt=\"Open In Colab\"/></a>"
      ]
    },
    {
      "cell_type": "markdown",
      "metadata": {
        "id": "IOHuvJNKTV_X"
      },
      "source": [
        "#k-vizinhos mais próximos"
      ]
    },
    {
      "cell_type": "markdown",
      "metadata": {
        "id": "01J-5nEhTX9s"
      },
      "source": [
        "####O algoritmo k-Nearest Neighbors ou KNN para breve é ​​uma técnica muito simples.\n",
        "\n",
        "####Todo o conjunto de dados de treinamento é armazenado. Quando uma previsão é necessária, os k-registros mais semelhantes a um novo registro do conjunto de dados de treinamento são localizados. A partir desses vizinhos, uma previsão resumida é feita.\n",
        "\n",
        "####A similaridade entre os registros pode ser medida de muitas maneiras diferentes. Um problema ou método específico de dados pode ser usado. Geralmente, com dados tabulares, um bom ponto de partida é a distância euclidiana .\n",
        "\n",
        "####Uma vez que os vizinhos são descobertos, a previsão resumida pode ser feita retornando o resultado mais comum ou tomando a média. Como tal, KNN pode ser usado para problemas de classificação ou regressão.\n",
        "\n",
        "####Não há nenhum modelo para falar além de manter todo o conjunto de dados de treinamento. Como nenhum trabalho é feito até que uma previsão seja necessária, o KNN é frequentemente referido como um método de aprendizagem preguiçoso."
      ]
    },
    {
      "cell_type": "markdown",
      "metadata": {
        "id": "PIbC7I9qUOru"
      },
      "source": [
        "####Etapas:\n",
        "- Etapa 1 : Calcular a distância euclidiana.\n",
        "- Etapa 2 : Obtenha os vizinhos mais próximos.\n",
        "- Etapa 3 : Faça previsões."
      ]
    },
    {
      "cell_type": "markdown",
      "metadata": {
        "id": "wVzZuQ51Ub09"
      },
      "source": [
        "##Etapa 1: Calcular a distância euclidiana\n",
        "- Distância euclidiana = sqrt (soma i a N (x1_i - x2_i) ^ 2)\n",
        "\n",
        "Onde x1 é a primeira linha de dados, x2 é a segunda linha de dados ei é o índice de uma coluna específica quando somamos todas as colunas.\n",
        "\n",
        "Com a distância euclidiana, quanto menor o valor, mais semelhantes serão os dois registros. Um valor 0 significa que não há diferença entre dois registros."
      ]
    },
    {
      "cell_type": "code",
      "metadata": {
        "id": "7OkizssELBra"
      },
      "source": [
        "def euclidiana_distancia(linha1, linha2):\n",
        "\tdistancia = 0.0\n",
        "\tfor i in range(len(linha1)-1):\n",
        "\t\tdistancia += (linha1[i] - linha2[i])**2\n",
        "\treturn sqrt(distancia)"
      ],
      "execution_count": 1,
      "outputs": []
    },
    {
      "cell_type": "code",
      "metadata": {
        "colab": {
          "base_uri": "https://localhost:8080/"
        },
        "id": "W7HgIjQzU27Z",
        "outputId": "115630d5-4edb-4a0d-d71c-7f184863aa9e"
      },
      "source": [
        "from math import sqrt\n",
        "\n",
        "dataset = [[2.7810836,2.550537003,0],\n",
        "\t[1.465489372,2.362125076,0],\n",
        "\t[3.396561688,4.400293529,0],\n",
        "\t[1.38807019,1.850220317,0],\n",
        "\t[3.06407232,3.005305973,0],\n",
        "\t[7.627531214,2.759262235,1],\n",
        "\t[5.332441248,2.088626775,1],\n",
        "\t[6.922596716,1.77106367,1],\n",
        "\t[8.675418651,-0.242068655,1],\n",
        "\t[7.673756466,3.508563011,1]]\n",
        "linha0 = dataset[0]\n",
        "for linha in dataset:\n",
        "\tdistancia = euclidiana_distancia(linha0, linha)\n",
        "\tprint(distancia)"
      ],
      "execution_count": 2,
      "outputs": [
        {
          "output_type": "stream",
          "name": "stdout",
          "text": [
            "0.0\n",
            "1.3290173915275787\n",
            "1.9494646655653247\n",
            "1.5591439385540549\n",
            "0.5356280721938492\n",
            "4.850940186986411\n",
            "2.592833759950511\n",
            "4.214227042632867\n",
            "6.522409988228337\n",
            "4.985585382449795\n"
          ]
        }
      ]
    },
    {
      "cell_type": "markdown",
      "metadata": {
        "id": "mItgIhEnVPiP"
      },
      "source": [
        "##Etapa 2: Obtenha vizinhos mais próximos"
      ]
    },
    {
      "cell_type": "code",
      "metadata": {
        "id": "G6RWx_N2Vh6P"
      },
      "source": [
        "def get_neighbors(train, test_linha, num_neighbors):\n",
        "\tdistancias = list()\n",
        "\tfor train_linha in train:\n",
        "\t\tdist = euclidiana_distancia(test_linha, train_linha)\n",
        "\t\tdistancias.append((train_linha, dist))\n",
        "\tdistancias.sort(key=lambda tup: tup[1])\n",
        "\tneighbors = list()\n",
        "\tfor i in range(num_neighbors):\n",
        "\t\tneighbors.append(distancias[i][0])\n",
        "\treturn neighbors"
      ],
      "execution_count": 3,
      "outputs": []
    },
    {
      "cell_type": "code",
      "metadata": {
        "colab": {
          "base_uri": "https://localhost:8080/"
        },
        "id": "by366w9CVybu",
        "outputId": "687243f5-961d-4776-a361-5f6111004a96"
      },
      "source": [
        "dataset = [[2.7810836,2.550537003,0],\n",
        "\t[1.465489372,2.362125076,0],\n",
        "\t[3.396561688,4.400293529,0],\n",
        "\t[1.38807019,1.850220317,0],\n",
        "\t[3.06407232,3.005305973,0],\n",
        "\t[7.627531214,2.759262235,1],\n",
        "\t[5.332441248,2.088626775,1],\n",
        "\t[6.922596716,1.77106367,1],\n",
        "\t[8.675418651,-0.242068655,1],\n",
        "\t[7.673756466,3.508563011,1]]\n",
        "\n",
        "neighbors = get_neighbors(dataset, dataset[0], 3)\n",
        "for neighbor in neighbors:\n",
        "\tprint(neighbor)"
      ],
      "execution_count": 4,
      "outputs": [
        {
          "output_type": "stream",
          "name": "stdout",
          "text": [
            "[2.7810836, 2.550537003, 0]\n",
            "[3.06407232, 3.005305973, 0]\n",
            "[1.465489372, 2.362125076, 0]\n"
          ]
        }
      ]
    },
    {
      "cell_type": "markdown",
      "metadata": {
        "id": "Ig0yZdgZWOq1"
      },
      "source": [
        "##Etapa 3: Faça previsões"
      ]
    },
    {
      "cell_type": "code",
      "metadata": {
        "id": "bN5H-rnSWPtG"
      },
      "source": [
        "def previsao_classificacao(train, test_linha, num_neighbors):\n",
        "\tneighbors = get_neighbors(train, test_linha, num_neighbors)\n",
        "\toutput_values = [linha[-1] for linha in neighbors]\n",
        "\tprevisao = max(set(output_values), key=output_values.count)\n",
        "\treturn previsao"
      ],
      "execution_count": 5,
      "outputs": []
    },
    {
      "cell_type": "code",
      "metadata": {
        "colab": {
          "base_uri": "https://localhost:8080/"
        },
        "id": "H64iYf-VWivG",
        "outputId": "a2db83a7-7c95-4e5f-9cbb-ff548c9bf386"
      },
      "source": [
        "dataset = [[2.7810836,2.550537003,0],\n",
        "\t[1.465489372,2.362125076,0],\n",
        "\t[3.396561688,4.400293529,0],\n",
        "\t[1.38807019,1.850220317,0],\n",
        "\t[3.06407232,3.005305973,0],\n",
        "\t[7.627531214,2.759262235,1],\n",
        "\t[5.332441248,2.088626775,1],\n",
        "\t[6.922596716,1.77106367,1],\n",
        "\t[8.675418651,-0.242068655,1],\n",
        "\t[7.673756466,3.508563011,1]]\n",
        "\n",
        "predicao = previsao_classificacao(dataset, dataset[7], 3)\n",
        "print('Expected %d, Got %d.' % (dataset[7][-1], predicao))"
      ],
      "execution_count": 6,
      "outputs": [
        {
          "output_type": "stream",
          "name": "stdout",
          "text": [
            "Expected 1, Got 1.\n"
          ]
        }
      ]
    },
    {
      "cell_type": "markdown",
      "metadata": {
        "id": "l7Xlti1lW7gI"
      },
      "source": [
        "##Estudo de caso de espécies de flores usando o íris dataset"
      ]
    },
    {
      "cell_type": "code",
      "metadata": {
        "colab": {
          "base_uri": "https://localhost:8080/"
        },
        "id": "P-DyUKevXCCe",
        "outputId": "95fb0c00-4ab7-4a37-8576-964f2d9d88ef"
      },
      "source": [
        "from csv import reader\n",
        "from math import sqrt\n",
        "\n",
        "def load_csv(filename):\n",
        "\tdataset = list()\n",
        "\twith open(filename, 'r') as file:\n",
        "\t\tcsv_reader = reader(file)\n",
        "\t\tfor row in csv_reader:\n",
        "\t\t\tif not row:\n",
        "\t\t\t\tcontinue\n",
        "\t\t\tdataset.append(row)\n",
        "\treturn dataset\n",
        "\n",
        "def str_column_to_float(dataset, coluna):\n",
        "\tfor linha in dataset:\n",
        "\t\tlinha[coluna] = float(linha[coluna].strip())\n",
        "\n",
        "def str_column_to_int(dataset, coluna):\n",
        "\tclass_values = [linha[coluna] for linha in dataset]\n",
        "\tunique = set(class_values)\n",
        "\tlookup = dict()\n",
        "\tfor i, value in enumerate(unique):\n",
        "\t\tlookup[value] = i\n",
        "\t\tprint('[%s] => %d' % (value, i))\n",
        "\tfor linha in dataset:\n",
        "\t\tlinha[coluna] = lookup[linha[coluna]]\n",
        "\treturn lookup\n",
        "\n",
        "def dataset_minmax(dataset):\n",
        "\tminmax = list()\n",
        "\tfor i in range(len(dataset[0])):\n",
        "\t\tcol_values = [row[i] for row in dataset]\n",
        "\t\tvalue_min = min(col_values)\n",
        "\t\tvalue_max = max(col_values)\n",
        "\t\tminmax.append([value_min, value_max])\n",
        "\treturn minmax\n",
        "\n",
        "def normalize_dataset(dataset, minmax):\n",
        "\tfor linha in dataset:\n",
        "\t\tfor i in range(len(linha)):\n",
        "\t\t\tlinha[i] = (linha[i] - minmax[i][0]) / (minmax[i][1] - minmax[i][0])\n",
        "\n",
        "def euclidean_distance(linha1, linha2):\n",
        "\tdistancia = 0.0\n",
        "\tfor i in range(len(linha1)-1):\n",
        "\t\tdistancia += (linha1[i] - linha2[i])**2\n",
        "\treturn sqrt(distancia)\n",
        "\n",
        "def get_neighbors(train, test_row, num_neighbors):\n",
        "\tdistances = list()\n",
        "\tfor train_row in train:\n",
        "\t\tdist = euclidean_distance(test_row, train_row)\n",
        "\t\tdistances.append((train_row, dist))\n",
        "\tdistances.sort(key=lambda tup: tup[1])\n",
        "\tneighbors = list()\n",
        "\tfor i in range(num_neighbors):\n",
        "\t\tneighbors.append(distances[i][0])\n",
        "\treturn neighbors\n",
        "\n",
        "def predict_classification(train, test_row, num_neighbors):\n",
        "\tneighbors = get_neighbors(train, test_row, num_neighbors)\n",
        "\toutput_values = [row[-1] for row in neighbors]\n",
        "\tprediction = max(set(output_values), key=output_values.count)\n",
        "\treturn prediction\n",
        "\n",
        "filename = 'iris_teste.csv'\n",
        "dataset = load_csv(filename)\n",
        "for i in range(len(dataset[0])-1):\n",
        "\tstr_column_to_float(dataset, i)\n",
        "\n",
        "str_column_to_int(dataset, len(dataset[0])-1)\n",
        "\n",
        "num_neighbors = 5\n",
        "\n",
        "row = [5.7,2.9,4.2,1.3]\n",
        "\n",
        "label = predict_classification(dataset, row, num_neighbors)\n",
        "print('Data=%s, Predicted: %s' % (row, label))"
      ],
      "execution_count": 9,
      "outputs": [
        {
          "output_type": "stream",
          "name": "stdout",
          "text": [
            "[Iris-virginica] => 0\n",
            "[Iris-setosa] => 1\n",
            "[Iris-versicolor] => 2\n",
            "Data=[5.7, 2.9, 4.2, 1.3], Predicted: 2\n"
          ]
        }
      ]
    }
  ]
}